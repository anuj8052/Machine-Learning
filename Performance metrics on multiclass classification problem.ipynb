{
 "cells": [
  {
   "cell_type": "code",
   "execution_count": 12,
   "id": "413dc685",
   "metadata": {},
   "outputs": [],
   "source": [
    "import numpy as np\n",
    "import pandas as pd"
   ]
  },
  {
   "cell_type": "code",
   "execution_count": 13,
   "id": "b220ce0a",
   "metadata": {},
   "outputs": [],
   "source": [
    "from sklearn import metrics"
   ]
  },
  {
   "cell_type": "code",
   "execution_count": 14,
   "id": "b759cf19",
   "metadata": {},
   "outputs": [],
   "source": [
    "c = \"Cat\"\n",
    "d = \"dog\"\n",
    "f = \"fox\""
   ]
  },
  {
   "cell_type": "code",
   "execution_count": 15,
   "id": "5d4dcc63",
   "metadata": {},
   "outputs": [],
   "source": [
    "# true values\n",
    "\n",
    "y_true = [c, c, c, c, c, c, c, d, d, d, d, d, d, d, f, f, f, f, f, f, f]\n",
    "\n",
    "# predicted values\n",
    "\n",
    "y_pred = [c, c, c, c, d, f, c, d, d, f, d, d, c, d, f, f, c, f, d, d, f]"
   ]
  },
  {
   "cell_type": "code",
   "execution_count": 17,
   "id": "14628931",
   "metadata": {},
   "outputs": [
    {
     "name": "stdout",
     "output_type": "stream",
     "text": [
      "[[5 1 1]\n",
      " [1 5 1]\n",
      " [1 2 4]]\n"
     ]
    }
   ],
   "source": [
    "# print the confusion metrics\n",
    "\n",
    "print(metrics.confusion_matrix(y_true, y_pred))"
   ]
  },
  {
   "cell_type": "code",
   "execution_count": 23,
   "id": "1ae8fa69",
   "metadata": {},
   "outputs": [
    {
     "name": "stdout",
     "output_type": "stream",
     "text": [
      "              precision    recall  f1-score   support\n",
      "\n",
      "         Cat      0.714     0.714     0.714         7\n",
      "         dog      0.625     0.714     0.667         7\n",
      "         fox      0.667     0.571     0.615         7\n",
      "\n",
      "    accuracy                          0.667        21\n",
      "   macro avg      0.669     0.667     0.665        21\n",
      "weighted avg      0.669     0.667     0.665        21\n",
      "\n"
     ]
    }
   ],
   "source": [
    "print(metrics.classification_report(y_true, y_pred, digits = 3))"
   ]
  }
 ],
 "metadata": {
  "kernelspec": {
   "display_name": "Python 3 (ipykernel)",
   "language": "python",
   "name": "python3"
  },
  "language_info": {
   "codemirror_mode": {
    "name": "ipython",
    "version": 3
   },
   "file_extension": ".py",
   "mimetype": "text/x-python",
   "name": "python",
   "nbconvert_exporter": "python",
   "pygments_lexer": "ipython3",
   "version": "3.9.7"
  }
 },
 "nbformat": 4,
 "nbformat_minor": 5
}
